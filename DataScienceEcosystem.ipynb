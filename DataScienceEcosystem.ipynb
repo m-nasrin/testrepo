{
 "cells": [
  {
   "cell_type": "markdown",
   "id": "15399431",
   "metadata": {},
   "source": [
    "# Data Science Tools and Ecosystem"
   ]
  },
  {
   "cell_type": "markdown",
   "id": "b1d199b1",
   "metadata": {},
   "source": [
    "In this notebook, Data Science Tools and Ecosystems are summarized."
   ]
  },
  {
   "cell_type": "markdown",
   "id": "bab12ddd",
   "metadata": {},
   "source": [
    "## Objectives:\n",
    "* List popular languages for Data Science\n",
    "* List popular libraries for Data Science\n",
    "* Showing markdown cell with a table of Data Science tools\n",
    "* Explain how to create a markdown cell arithmetic expression \n",
    "* Explain how to create a code cell to convert minutes to hours"
   ]
  },
  {
   "cell_type": "markdown",
   "id": "4f093261",
   "metadata": {},
   "source": [
    "## Some of the commonly used languages used by Data Scientists include:\n",
    "1. Python\n",
    "2. R\n",
    "3. SQL\n",
    "4. Tableau\n",
    "5. Jupyter Notebooks"
   ]
  },
  {
   "cell_type": "markdown",
   "id": "f86be8c7",
   "metadata": {},
   "source": [
    "## Some of the commonly used libraries used by Data Scientists include:\n",
    "1. NumPy\n",
    "2. Pandas\n",
    "3. Scikit-learn\n",
    "4. Matplotlib\n",
    "5. Seaborn"
   ]
  },
  {
   "cell_type": "markdown",
   "id": "13b1f714",
   "metadata": {},
   "source": [
    "| Data Science Tools |\n",
    "| ------ | \n",
    "| Python |\n",
    "| R |\n",
    "| Jupyter Notebooks |\n",
    "\n",
    "\n"
   ]
  },
  {
   "cell_type": "markdown",
   "id": "3d2dcdc0",
   "metadata": {},
   "source": [
    "### Below are a few examples of evaluating arithmetic expressions in Python\n",
    "* Addition: 'a + b'\n",
    "* Subtraction: 'a - b'\n",
    "* Multiplication: 'a * b'\n",
    "* Division: 'a / b'"
   ]
  },
  {
   "cell_type": "code",
   "execution_count": 4,
   "id": "13634950",
   "metadata": {},
   "outputs": [
    {
     "name": "stdout",
     "output_type": "stream",
     "text": [
      "17\n"
     ]
    }
   ],
   "source": [
    "#  This a simple arithmetic expression to mutiply then add integers\n",
    "A = (3 * 4) + 5\n",
    "print(A)"
   ]
  },
  {
   "cell_type": "code",
   "execution_count": 5,
   "id": "441e1498",
   "metadata": {},
   "outputs": [
    {
     "name": "stdout",
     "output_type": "stream",
     "text": [
      "3.3333333333333335\n"
     ]
    }
   ],
   "source": [
    "# This will convert 200 minutes to hours by dividing by 60.\n",
    "\n",
    "hours = 200 / 60\n",
    "\n",
    "print(hours)\n"
   ]
  },
  {
   "cell_type": "markdown",
   "id": "414d5833",
   "metadata": {},
   "source": [
    "## Author\n",
    "Mahmuda Nasrin"
   ]
  },
  {
   "cell_type": "code",
   "execution_count": null,
   "id": "980b1a96",
   "metadata": {},
   "outputs": [],
   "source": []
  }
 ],
 "metadata": {
  "kernelspec": {
   "display_name": "Python 3 (ipykernel)",
   "language": "python",
   "name": "python3"
  },
  "language_info": {
   "codemirror_mode": {
    "name": "ipython",
    "version": 3
   },
   "file_extension": ".py",
   "mimetype": "text/x-python",
   "name": "python",
   "nbconvert_exporter": "python",
   "pygments_lexer": "ipython3",
   "version": "3.10.9"
  }
 },
 "nbformat": 4,
 "nbformat_minor": 5
}
